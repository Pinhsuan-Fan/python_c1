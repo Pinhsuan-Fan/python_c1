{
 "cells": [
  {
   "cell_type": "code",
   "execution_count": 2,
   "metadata": {},
   "outputs": [],
   "source": [
    "import numpy as np"
   ]
  },
  {
   "cell_type": "markdown",
   "metadata": {},
   "source": [
    "# 1.[簡答題] 請問下列兩種將 Array 轉換成 List 的方式有何不同？\n"
   ]
  },
  {
   "cell_type": "code",
   "execution_count": 4,
   "metadata": {},
   "outputs": [
    {
     "name": "stdout",
     "output_type": "stream",
     "text": [
      "list(a):  [array([0, 1, 2, 3, 4]), array([5, 6, 7, 8, 9]), array([10, 11, 12, 13, 14])]\n",
      "tolist():  [[0, 1, 2, 3, 4], [5, 6, 7, 8, 9], [10, 11, 12, 13, 14]]\n"
     ]
    }
   ],
   "source": [
    "a=np.arange(15).reshape(3, 5)\n",
    "print('list(a): ', list(a))\n",
    "print('tolist(): ', a.tolist())"
   ]
  },
  {
   "cell_type": "code",
   "execution_count": null,
   "metadata": {},
   "outputs": [],
   "source": [
    "list(a) 只會把第一層的元素轉換成 List\n",
    "\n",
    "tolist() 全部都轉成list"
   ]
  },
  {
   "cell_type": "markdown",
   "metadata": {},
   "source": [
    "# 2. 請試著在程式中印出以下三個 NdArray 的屬性？\n",
    "（屬性：ndim、shape、size、dtype、itemsize、length、type）"
   ]
  },
  {
   "cell_type": "code",
   "execution_count": 15,
   "metadata": {},
   "outputs": [
    {
     "name": "stdout",
     "output_type": "stream",
     "text": [
      "[6 0 1 0 4 7]\n",
      "1\n",
      "(6,)\n",
      "6\n",
      "int32\n",
      "4\n",
      "<memory at 0x00000291E9F9C280>\n"
     ]
    }
   ],
   "source": [
    "a = np.random.randint(10, size=6) \n",
    "print(a)\n",
    "print(a.ndim) #一維度空間\n",
    "print(a.shape) #六乘一的矩陣維度\n",
    "print(a.size) #總共有六個元素\n",
    "print(a.dtype) #矩陣中的資料型態\n",
    "print(a.itemsize) #每個元素占用的空間\n",
    "print(a.data) #資料儲存在哪"
   ]
  },
  {
   "cell_type": "code",
   "execution_count": 17,
   "metadata": {},
   "outputs": [
    {
     "name": "stdout",
     "output_type": "stream",
     "text": [
      "[[8 0 2 5]\n",
      " [3 4 1 5]\n",
      " [9 8 0 5]]\n",
      "2\n",
      "(3, 4)\n",
      "12\n",
      "int32\n",
      "4\n",
      "<memory at 0x00000291E9F58450>\n"
     ]
    }
   ],
   "source": [
    "b = np.random.randint(10, size=(3,4)) \n",
    "print(b)\n",
    "print(b.ndim) #二維度空間\n",
    "print(b.shape) #三乘四的矩陣維度\n",
    "print(b.size) #總共有十二個元素\n",
    "print(b.dtype) #矩陣中的資料型態\n",
    "print(b.itemsize) #每個元素占用的空間\n",
    "print(b.data) #資料儲存在哪"
   ]
  },
  {
   "cell_type": "code",
   "execution_count": 16,
   "metadata": {},
   "outputs": [
    {
     "name": "stdout",
     "output_type": "stream",
     "text": [
      "[[[2 2]\n",
      "  [2 0]\n",
      "  [7 4]]\n",
      "\n",
      " [[1 7]\n",
      "  [1 6]\n",
      "  [6 7]]]\n",
      "3\n",
      "(2, 3, 2)\n",
      "12\n",
      "int32\n",
      "4\n",
      "<memory at 0x00000291E9E98A90>\n"
     ]
    }
   ],
   "source": [
    "c = np.random.randint(10, size=(2,3,2)) \n",
    "print(c)\n",
    "print(c.ndim) #三維度空間\n",
    "print(c.shape) #二乘三乘二的矩陣維度\n",
    "print(c.size) #總共有十二個元素\n",
    "print(c.dtype) #矩陣中的資料型態\n",
    "print(c.itemsize) #每個元素占用的空間\n",
    "print(c.data) #資料儲存在哪"
   ]
  },
  {
   "cell_type": "markdown",
   "metadata": {},
   "source": [
    "# 3. 如何利用 list(...) 實現 a.tolist() 的效果？試著用程式實作。\n"
   ]
  },
  {
   "cell_type": "code",
   "execution_count": 25,
   "metadata": {},
   "outputs": [
    {
     "name": "stdout",
     "output_type": "stream",
     "text": [
      "[4, 6, 7, 3, 8, 2]\n",
      "[4, 6, 7, 3, 8, 2]\n"
     ]
    }
   ],
   "source": [
    "a = np.random.randint(10, size=6) \n",
    "\n",
    "print(a.tolist())\n",
    "print(list(a))"
   ]
  },
  {
   "cell_type": "code",
   "execution_count": 26,
   "metadata": {},
   "outputs": [
    {
     "name": "stdout",
     "output_type": "stream",
     "text": [
      "[[5, 7, 6, 2], [2, 6, 9, 7], [1, 3, 8, 7]]\n",
      "[array([5, 7, 6, 2]), array([2, 6, 9, 7]), array([1, 3, 8, 7])]\n"
     ]
    }
   ],
   "source": [
    "b = np.random.randint(10, size=(3,4)) \n",
    "\n",
    "print(b.tolist())\n",
    "print(list(b))"
   ]
  },
  {
   "cell_type": "code",
   "execution_count": 27,
   "metadata": {},
   "outputs": [
    {
     "name": "stdout",
     "output_type": "stream",
     "text": [
      "[[[6, 4], [6, 8], [0, 0]], [[4, 9], [1, 4], [7, 5]]]\n",
      "[array([[6, 4],\n",
      "       [6, 8],\n",
      "       [0, 0]]), array([[4, 9],\n",
      "       [1, 4],\n",
      "       [7, 5]])]\n"
     ]
    }
   ],
   "source": [
    "c = np.random.randint(10, size=(2,3,2)) \n",
    "\n",
    "print(c.tolist())\n",
    "print(list(c))"
   ]
  },
  {
   "cell_type": "code",
   "execution_count": 29,
   "metadata": {},
   "outputs": [
    {
     "name": "stdout",
     "output_type": "stream",
     "text": [
      "[4 6 7 3 8 2]\n",
      "[[5 7 6 2]\n",
      " [2 6 9 7]\n",
      " [1 3 8 7]]\n",
      "[[[6 4]\n",
      "  [6 8]\n",
      "  [0 0]]\n",
      "\n",
      " [[4 9]\n",
      "  [1 4]\n",
      "  [7 5]]]\n"
     ]
    }
   ],
   "source": [
    "def tolist(iterable):\n",
    "    for it in iterable:\n",
    "        return it.tolist()\n",
    "print(a)\n",
    "print(b)\n",
    "print(c)"
   ]
  },
  {
   "cell_type": "code",
   "execution_count": null,
   "metadata": {},
   "outputs": [],
   "source": []
  }
 ],
 "metadata": {
  "kernelspec": {
   "display_name": "Python 3",
   "language": "python",
   "name": "python3"
  },
  "language_info": {
   "codemirror_mode": {
    "name": "ipython",
    "version": 3
   },
   "file_extension": ".py",
   "mimetype": "text/x-python",
   "name": "python",
   "nbconvert_exporter": "python",
   "pygments_lexer": "ipython3",
   "version": "3.8.5"
  }
 },
 "nbformat": 4,
 "nbformat_minor": 4
}
